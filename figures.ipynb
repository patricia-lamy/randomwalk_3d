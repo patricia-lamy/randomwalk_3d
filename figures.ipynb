{
 "cells": [
  {
   "attachments": {},
   "cell_type": "markdown",
   "metadata": {},
   "source": [
    "Imports"
   ]
  },
  {
   "cell_type": "code",
   "execution_count": null,
   "metadata": {},
   "outputs": [],
   "source": [
    "import matplotlib.pyplot as plt\n",
    "import numpy as np"
   ]
  },
  {
   "attachments": {},
   "cell_type": "markdown",
   "metadata": {},
   "source": [
    "## Figure for Geometry with reflective lens and absorbing rest."
   ]
  },
  {
   "cell_type": "code",
   "execution_count": null,
   "metadata": {},
   "outputs": [],
   "source": [
    "## Importing data and looking at mean values and proportions\n",
    "data = np.genfromtxt(\"data/fpt_array_geomB_26-01-2023_0.02_valid.csv\", delimiter=\",\")\n",
    "fpt = data[:,0]\n",
    "exit = data[:,1]\n",
    "\n",
    "#pde_mfpt_mean = 1.8756  # Geometry A\n",
    "#pde_mfpt_mean = 1.9453 # Geom B\n",
    "pde_mfpt_mean = 2.0027 # Geom C\n",
    "\n",
    "# Looking at mean first passage time\n",
    "fpt_mean = np.nanmean(fpt)\n",
    "# Looking at proportion of exit from hyaloid and ilm\n",
    "prop_hya = np.count_nonzero(exit == 0)/np.count_nonzero(~np.isnan(exit))\n",
    "prop_ilm = np.count_nonzero(exit == 1)/np.count_nonzero(~np.isnan(exit))\n",
    "\n",
    "print('MFPT: ', fpt_mean/24, 'days')\n",
    "print('Proportion of exits through hyaloid: ', prop_hya)\n",
    "print('Proportion of exits through ILM: ', prop_ilm)\n",
    "\n",
    "# Plot histogram without NaN values.\n",
    "fpt_days = fpt/24\n",
    "# Plot histogram without NaN values.\n",
    "fig,ax = plt.subplots(1,1)\n",
    "fig.set_size_inches(7,5)\n",
    "n, bins, patches = ax.hist(fpt_days[~np.isnan(fpt_days)], bins=37, density=True, edgecolor = \"black\", label = 'Simulation Histogram')\n",
    "ax.set_xlabel('Time (days)')\n",
    "ax.set_ylabel('Probability Density')\n",
    "plt.axvline(x=fpt_mean/24, color='red', linestyle='-', linewidth=2, label = 'Simulation MFPT')\n",
    "plt.axvline(x=pde_mfpt_mean, color='black', linestyle='--', linewidth=2, label = 'PDE MFPT')\n",
    "ax.set_xlim([0, 12])\n",
    "plt.legend()\n",
    "#plt.savefig('fpt_pdf_geom1_p1_05-12-2022_days.eps', format='eps')\n",
    "plt.show()\n",
    "\n",
    "mode_index = n.argmax()\n",
    "print('the mode:'+ str((bins[mode_index] + bins[mode_index+1])/2), 'days')"
   ]
  },
  {
   "cell_type": "code",
   "execution_count": null,
   "metadata": {},
   "outputs": [],
   "source": [
    "data = np.genfromtxt(\"time_array_geom0_20-01-2023_tests.csv\", delimiter=\",\")\n",
    "time = data\n",
    "for n in [1, len(time)-2]:\n",
    "    if time[n+1] - time[n] != 0:\n",
    "        print(time[n], time[n+1])"
   ]
  },
  {
   "attachments": {},
   "cell_type": "markdown",
   "metadata": {},
   "source": [
    "#### Figure comparing avg FPT for Geometries A and B depending on time step "
   ]
  },
  {
   "cell_type": "code",
   "execution_count": null,
   "metadata": {},
   "outputs": [],
   "source": [
    "# For Geometry A the sphere with absorbing boundary conditions,\n",
    "# Geometry B the sphere with reflective boundary condition for\n",
    "# the lens section and absorbing boundary condition for the rest\n",
    "# of the eye, we obtained the following average FPT:\n",
    "avg_fpt_geomA = [1.8778, 1.9044, 1.9089, 1.879, 1.8926, 1.8984, 1.8986, 1.8981, 1.9008, 1.909, 1.8989]\n",
    "avg_fpt_geomB = [2.3667, 2.1368, 1.9734, 1.7764]\n",
    "delta_t = [0.010, 0.011, 0.012, 0.013, 0.014, 0.015, 0.016, 0.017, 0.018, 0.019, 0.020]\n",
    "\n",
    "# While the values obtained through the PDE are\n",
    "mfpt_geomA = 1.8756\n",
    "mfpt_geomB = 1.9467\n",
    "\n",
    "# Plot A\n",
    "fig,ax = plt.subplots(1,1)\n",
    "fig.set_size_inches(7,5)\n",
    "ax.plot(delta_t, avg_fpt_geomA, marker='o', color='C0', linestyle='dashed', label='Average FPT from simulation')\n",
    "plt.axhline(y=mfpt_geomA, color='C3', label='Mean FPT solution from PDE')\n",
    "plt.legend(loc='lower right')\n",
    "plt.ylim((0,2.25))\n",
    "plt.title('Mean FPT in Geometry A for a particle starting in the centre')\n",
    "plt.show()\n",
    "\n",
    "# Plot B\n",
    "fig,ax = plt.subplots(1,1)\n",
    "fig.set_size_inches(7,5)\n",
    "#ax.plot(delta_t, avg_fpt_geomB, marker='o', color='C0',linestyle='dashed', label='Average FPT from simulation')\n",
    "plt.axhline(y=mfpt_geomB, color='C3', label='Mean FPT solution from PDE')\n",
    "plt.legend()\n",
    "plt.title('Mean FPT in Geometry B for a particle starting in the centre')\n",
    "#plt.show()\n",
    "\n",
    "# Plot together \n",
    "fig,ax = plt.subplots(1,1)\n",
    "fig.set_size_inches(7,5)\n",
    "ax.plot(delta_t, avg_fpt_geomA, marker='o', color='C5', linestyle='dashed', label='Average FPT from simulation, Geometry A')\n",
    "#ax.plot(delta_t, avg_fpt_geomB, marker='o', color='C1',linestyle='dashed', label='Average FPT from simulation, Geometry B')\n",
    "plt.axhline(y=mfpt_geomA, color='C5', label='Mean FPT solution from PDE, Geometry A')\n",
    "plt.axhline(y=mfpt_geomB, color='C1', label='Mean FPT solution from PDE, Geometry B')\n",
    "plt.legend()\n",
    "plt.title('Mean FPT in Geometry A and B for a particle starting in the centre')\n",
    "#plt.show()"
   ]
  },
  {
   "attachments": {},
   "cell_type": "markdown",
   "metadata": {},
   "source": [
    "# Looking at distribution of positions in random walk"
   ]
  },
  {
   "cell_type": "code",
   "execution_count": 2,
   "metadata": {},
   "outputs": [],
   "source": [
    "import pandas as pd\n",
    "\n",
    "df = pd.DataFrame()\n",
    "\n",
    "# We merge the positions of all particles\n",
    "for i in range(0, 10):\n",
    "    dfi = pd.read_csv(\"data/positions/particle\"+f\"{i+1}_positions_geomB_26-01-2023_test.csv\")\n",
    "    df = df.append(dfi, ignore_index=True)\n",
    "\n",
    "dataframe = df"
   ]
  },
  {
   "cell_type": "code",
   "execution_count": 13,
   "metadata": {},
   "outputs": [
    {
     "data": {
      "image/png": "[encoded data removed]",
      "text/plain": [
       "<Figure size 504x360 with 1 Axes>"
      ]
     },
     "metadata": {
      "needs_background": "light"
     },
     "output_type": "display_data"
    },
    {
     "data": {
      "image/png": "[encoded data removed]",
      "text/plain": [
       "<Figure size 504x360 with 1 Axes>"
      ]
     },
     "metadata": {
      "needs_background": "light"
     },
     "output_type": "display_data"
    },
    {
     "data": {
      "image/png": "[encoded data removed]",
      "text/plain": [
       "<Figure size 504x360 with 1 Axes>"
      ]
     },
     "metadata": {
      "needs_background": "light"
     },
     "output_type": "display_data"
    }
   ],
   "source": [
    "import numpy as np\n",
    "import matplotlib.pyplot as plt\n",
    "\n",
    "# We look at distribution on x, y and z axis\n",
    "rho_list = df['Rho'].to_numpy()\n",
    "theta_list = df['Theta'].to_numpy()\n",
    "phi_list = df['Phi'].to_numpy()\n",
    "\n",
    "x_data = rho_list * np.cos(theta_list) * np.sin(phi_list)\n",
    "y_data = rho_list * np.sin(theta_list) * np.sin(phi_list)\n",
    "z_data = rho_list * np.cos(phi_list)\n",
    "\n",
    "\n",
    "# Plot histogram\n",
    "fig,ax = plt.subplots(1,1)\n",
    "fig.set_size_inches(7,5)\n",
    "n, bins, patches = ax.hist(x_data, bins=37, density=False, edgecolor = \"black\", label = 'Simulation Histogram')\n",
    "ax.set_xlabel('Position along x axis')\n",
    "ax.set_ylabel('Distribution')\n",
    "ax.set_xlim([-1.02, 1.02])\n",
    "plt.show()\n",
    "\n",
    "fig,ax = plt.subplots(1,1)\n",
    "fig.set_size_inches(7,5)\n",
    "n, bins, patches = ax.hist(y_data, bins=37, density=False, edgecolor = \"black\", label = 'Simulation Histogram')\n",
    "ax.set_xlabel('Position along y axis')\n",
    "ax.set_ylabel('Distribution')\n",
    "ax.set_xlim([-1.02, 1.02])\n",
    "plt.show()\n",
    "\n",
    "fig,ax = plt.subplots(1,1)\n",
    "fig.set_size_inches(7,5)\n",
    "n, bins, patches = ax.hist(z_data, bins=37, density=False, edgecolor = \"black\", label = 'Simulation Histogram')\n",
    "ax.set_xlabel('Position along z axis')\n",
    "ax.set_ylabel('Distribution')\n",
    "ax.set_xlim([-1.02, 1.02])\n",
    "plt.show()"
   ]
  }
 ],
 "metadata": {
  "kernelspec": {
   "display_name": "Python 3",
   "language": "python",
   "name": "python3"
  },
  "language_info": {
   "codemirror_mode": {
    "name": "ipython",
    "version": 3
   },
   "file_extension": ".py",
   "mimetype": "text/x-python",
   "name": "python",
   "nbconvert_exporter": "python",
   "pygments_lexer": "ipython3",
   "version": "3.10.6"
  },
  "orig_nbformat": 4,
  "vscode": {
   "interpreter": {
    "hash": "e7370f93d1d0cde622a1f8e1c04877d8463912d04d973331ad4851f04de6915a"
   }
  }
 },
 "nbformat": 4,
 "nbformat_minor": 2
}
